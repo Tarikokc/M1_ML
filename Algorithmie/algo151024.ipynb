{
 "cells": [
  {
   "cell_type": "markdown",
   "id": "d351100c-41f5-45ad-9aed-b1f412996943",
   "metadata": {},
   "source": [
    "# M1 Machine Learning 15/10/2024"
   ]
  },
  {
   "cell_type": "markdown",
   "id": "8fff6935-cde7-46fd-bd3d-b249100cbb02",
   "metadata": {},
   "source": [
    "## Leet Code - Island Perimeter"
   ]
  },
  {
   "cell_type": "code",
   "execution_count": null,
   "id": "1b387882-6254-498f-9a21-0da21735cc25",
   "metadata": {},
   "outputs": [],
   "source": [
    "class Solution:\n",
    "    def islandPerimeter(self, grid: List[List[int]]) -> int:\n",
    "        rows, cols = len(grid), len(grid[0])\n",
    "        perimetre = 0\n",
    "\n",
    "        for i in range(rows) : \n",
    "            for j in range(cols) : \n",
    "                if grid[i][j] == 1 : \n",
    "                    perimetre += 4\n",
    "\n",
    "                    if i > 0 and grid[i-1][j] == 1 : \n",
    "                        perimetre -= 1\n",
    "                    if i < rows-1 and grid[i+1][j] == 1 :\n",
    "                        perimetre -= 1\n",
    "                    if j > 0 and grid[i][j-1] == 1 :\n",
    "                        perimetre -= 1\n",
    "                    if j < cols-1 and grid[i][j+1] == 1 : \n",
    "                        perimetre -= 1 \n",
    "                        \n",
    "        return perimetre"
   ]
  },
  {
   "cell_type": "markdown",
   "id": "d169e440-9b4a-4f8e-b8a1-206676b3b068",
   "metadata": {},
   "source": [
    "## Leet Code - Number of island "
   ]
  },
  {
   "cell_type": "code",
   "execution_count": null,
   "id": "0c897aa8-2175-47ec-b684-4b51bdf622ed",
   "metadata": {},
   "outputs": [],
   "source": [
    "class Solution:\n",
    "    def numIslands(self, grid: List[List[str]]) -> int:\n",
    "        if not grid:\n",
    "            return 0\n",
    "\n",
    "        rows, cols = len(grid), len(grid[0])\n",
    "        island = 0\n",
    "\n",
    "        for i in range(rows):\n",
    "            for j in range(cols):\n",
    "                if grid[i][j] == \"1\":\n",
    "                    island += 1\n",
    "                    self.dfs(grid, i, j)\n",
    "        return island\n",
    "    \n",
    "    def dfs(self, grid, i, j):\n",
    "        # if i < 0 or i >= len(grid) --> Vérifie si hors limite vertical\n",
    "        # j < 0 or j >= len(grid[0]) --> Vérifie si hors limite horizontal\n",
    "        # grid[i][j] != \"1\" --> Verifie si la cellule != Terre\n",
    "        if i < 0 or i >= len(grid) or j < 0 or j >= len(grid[0]) or grid[i][j] != \"1\":\n",
    "            return\n",
    "        \n",
    "        grid[i][j] = \"0\"\n",
    "\n",
    "        self.dfs(grid, i+1, j)\n",
    "        self.dfs(grid, i-1, j)\n",
    "        self.dfs(grid, i, j+1)\n",
    "        self.dfs(grid, i, j-1)"
   ]
  },
  {
   "cell_type": "markdown",
   "id": "b526154b-30b1-4784-9350-ac8dd3c86413",
   "metadata": {},
   "source": [
    "## Leet Code - Ones and Zeros"
   ]
  },
  {
   "cell_type": "code",
   "execution_count": 4,
   "id": "dca6049c-e97e-4b05-ad53-e5f1c6b0c853",
   "metadata": {},
   "outputs": [
    {
     "ename": "NameError",
     "evalue": "name 'List' is not defined",
     "output_type": "error",
     "traceback": [
      "\u001b[0;31m---------------------------------------------------------------------------\u001b[0m",
      "\u001b[0;31mNameError\u001b[0m                                 Traceback (most recent call last)",
      "Cell \u001b[0;32mIn[4], line 1\u001b[0m\n\u001b[0;32m----> 1\u001b[0m \u001b[38;5;28;01mclass\u001b[39;00m \u001b[38;5;21;01mSolution\u001b[39;00m:\n\u001b[1;32m      2\u001b[0m     \u001b[38;5;28;01mdef\u001b[39;00m \u001b[38;5;21mfindMaxForm\u001b[39m(\u001b[38;5;28mself\u001b[39m, strs: List[\u001b[38;5;28mstr\u001b[39m], m: \u001b[38;5;28mint\u001b[39m, n: \u001b[38;5;28mint\u001b[39m) \u001b[38;5;241m-\u001b[39m\u001b[38;5;241m>\u001b[39m \u001b[38;5;28mint\u001b[39m:\n\u001b[1;32m      3\u001b[0m         dp \u001b[38;5;241m=\u001b[39m [[\u001b[38;5;241m0\u001b[39m] \u001b[38;5;241m*\u001b[39m (n \u001b[38;5;241m+\u001b[39m \u001b[38;5;241m1\u001b[39m) \u001b[38;5;28;01mfor\u001b[39;00m _ \u001b[38;5;129;01min\u001b[39;00m \u001b[38;5;28mrange\u001b[39m(m \u001b[38;5;241m+\u001b[39m \u001b[38;5;241m1\u001b[39m)]\n",
      "Cell \u001b[0;32mIn[4], line 2\u001b[0m, in \u001b[0;36mSolution\u001b[0;34m()\u001b[0m\n\u001b[1;32m      1\u001b[0m \u001b[38;5;28;01mclass\u001b[39;00m \u001b[38;5;21;01mSolution\u001b[39;00m:\n\u001b[0;32m----> 2\u001b[0m     \u001b[38;5;28;01mdef\u001b[39;00m \u001b[38;5;21mfindMaxForm\u001b[39m(\u001b[38;5;28mself\u001b[39m, strs: \u001b[43mList\u001b[49m[\u001b[38;5;28mstr\u001b[39m], m: \u001b[38;5;28mint\u001b[39m, n: \u001b[38;5;28mint\u001b[39m) \u001b[38;5;241m-\u001b[39m\u001b[38;5;241m>\u001b[39m \u001b[38;5;28mint\u001b[39m:\n\u001b[1;32m      3\u001b[0m         dp \u001b[38;5;241m=\u001b[39m [[\u001b[38;5;241m0\u001b[39m] \u001b[38;5;241m*\u001b[39m (n \u001b[38;5;241m+\u001b[39m \u001b[38;5;241m1\u001b[39m) \u001b[38;5;28;01mfor\u001b[39;00m _ \u001b[38;5;129;01min\u001b[39;00m \u001b[38;5;28mrange\u001b[39m(m \u001b[38;5;241m+\u001b[39m \u001b[38;5;241m1\u001b[39m)]\n\u001b[1;32m      5\u001b[0m         \u001b[38;5;28;01mfor\u001b[39;00m s \u001b[38;5;129;01min\u001b[39;00m strs:\n",
      "\u001b[0;31mNameError\u001b[0m: name 'List' is not defined"
     ]
    }
   ],
   "source": [
    "class Solution:\n",
    "    def findMaxForm(self, strs: List[str], m: int, n: int) -> int:\n",
    "        dp = [[0] * (n + 1) for _ in range(m + 1)]\n",
    "        \n",
    "        for s in strs:\n",
    "            zeros, ones = s.count('0'), s.count('1')\n",
    "            \n",
    "            for i in range(m, zeros - 1, -1):\n",
    "                for j in range(n, ones - 1, -1):\n",
    "                    dp[i][j] = max(dp[i][j], 1 + dp[i - zeros][j - ones])\n",
    "        \n",
    "        return dp[m][n]"
   ]
  },
  {
   "cell_type": "markdown",
   "id": "64ca3911-8cdc-4667-a3ba-e886f8b06d1b",
   "metadata": {},
   "source": [
    "## Leet Code - Maximum Subarray "
   ]
  },
  {
   "cell_type": "code",
   "execution_count": 11,
   "id": "371fbf9d-df48-4a29-a3ab-98d35438374c",
   "metadata": {},
   "outputs": [
    {
     "name": "stdout",
     "output_type": "stream",
     "text": [
      "18\n"
     ]
    }
   ],
   "source": [
    "def tableSum(t):\n",
    "    res = float('-inf')\n",
    "    for i in range(len(t)):\n",
    "        res_fin = sum(t[i:])\n",
    "        res = max(res, res_fin)\n",
    "    return res\n",
    "print(tableSum([2, 3, -8, 7, -1, 7, 2, 3]))\n"
   ]
  },
  {
   "cell_type": "code",
   "execution_count": null,
   "id": "16a2f5b6-6a94-4e04-bf80-a5fbac84678e",
   "metadata": {},
   "outputs": [],
   "source": []
  }
 ],
 "metadata": {
  "kernelspec": {
   "display_name": "Python 3 (ipykernel)",
   "language": "python",
   "name": "python3"
  },
  "language_info": {
   "codemirror_mode": {
    "name": "ipython",
    "version": 3
   },
   "file_extension": ".py",
   "mimetype": "text/x-python",
   "name": "python",
   "nbconvert_exporter": "python",
   "pygments_lexer": "ipython3",
   "version": "3.10.12"
  }
 },
 "nbformat": 4,
 "nbformat_minor": 5
}
