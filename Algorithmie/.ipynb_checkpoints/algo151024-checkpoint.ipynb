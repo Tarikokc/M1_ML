{
 "cells": [
  {
   "cell_type": "markdown",
   "id": "d351100c-41f5-45ad-9aed-b1f412996943",
   "metadata": {},
   "source": [
    "# M1 Machine Learning 14/10/2024\n",
    "\n",
    "## Leet Code - Island Perimeter"
   ]
  },
  {
   "cell_type": "code",
   "execution_count": null,
   "id": "1b387882-6254-498f-9a21-0da21735cc25",
   "metadata": {},
   "outputs": [],
   "source": [
    "class Solution:\n",
    "    def islandPerimeter(self, grid: List[List[int]]) -> int:\n",
    "        rows, cols = len(grid), len(grid[0])\n",
    "        perimetre = 0\n",
    "\n",
    "        for i in range(rows) : \n",
    "            for j in range(cols) : \n",
    "                if grid[i][j] == 1 : \n",
    "                    perimetre += 4\n",
    "\n",
    "                    if i > 0 and grid[i-1][j] == 1 : \n",
    "                        perimetre -= 1\n",
    "                    if i < rows-1 and grid[i+1][j] == 1 :\n",
    "                        perimetre -= 1\n",
    "                    if j > 0 and grid[i][j-1] == 1 :\n",
    "                        perimetre -= 1\n",
    "                    if j < cols-1 and grid[i][j+1] == 1 : \n",
    "                        perimetre -= 1 \n",
    "                        \n",
    "        return perimetre"
   ]
  },
  {
   "cell_type": "code",
   "execution_count": null,
   "id": "53a9a7ef-c4d4-49e4-8696-bffd70aba44c",
   "metadata": {},
   "outputs": [],
   "source": [
    "## Leet Code - Number of island "
   ]
  },
  {
   "cell_type": "code",
   "execution_count": null,
   "id": "0c897aa8-2175-47ec-b684-4b51bdf622ed",
   "metadata": {},
   "outputs": [],
   "source": [
    "class Solution:\n",
    "    def numIslands(self, grid: List[List[str]]) -> int:\n",
    "        if not grid:\n",
    "            return 0\n",
    "\n",
    "        rows, cols = len(grid), len(grid[0])\n",
    "        island = 0\n",
    "\n",
    "        for i in range(rows):\n",
    "            for j in range(cols):\n",
    "                if grid[i][j] == \"1\":\n",
    "                    island += 1\n",
    "                    self.dfs(grid, i, j)\n",
    "        return island\n",
    "    \n",
    "    def dfs(self, grid, i, j):\n",
    "        # if i < 0 or i >= len(grid) --> Vérifie si hors limite vertical\n",
    "        # j < 0 or j >= len(grid[0]) --> Vérifie si hors limite horizontal\n",
    "        # grid[i][j] != \"1\" --> Verifie si la cellule != Terre\n",
    "        if i < 0 or i >= len(grid) or j < 0 or j >= len(grid[0]) or grid[i][j] != \"1\":\n",
    "            return\n",
    "        \n",
    "        grid[i][j] = \"0\"\n",
    "\n",
    "        self.dfs(grid, i+1, j)\n",
    "        self.dfs(grid, i-1, j)\n",
    "        self.dfs(grid, i, j+1)\n",
    "        self.dfs(grid, i, j-1)"
   ]
  }
 ],
 "metadata": {
  "kernelspec": {
   "display_name": "Python 3 (ipykernel)",
   "language": "python",
   "name": "python3"
  },
  "language_info": {
   "codemirror_mode": {
    "name": "ipython",
    "version": 3
   },
   "file_extension": ".py",
   "mimetype": "text/x-python",
   "name": "python",
   "nbconvert_exporter": "python",
   "pygments_lexer": "ipython3",
   "version": "3.10.12"
  }
 },
 "nbformat": 4,
 "nbformat_minor": 5
}
