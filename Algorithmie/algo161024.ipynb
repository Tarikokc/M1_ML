{
 "cells": [
  {
   "cell_type": "markdown",
   "metadata": {},
   "source": [
    "# M1 Machine Learning 15/10/2024"
   ]
  },
  {
   "cell_type": "markdown",
   "metadata": {},
   "source": [
    "# Arrays\n",
    "1. Two Sum (Easy) - Problem #1\n",
    "2. Best Time to Buy and Sell Stock (Easy) - Problem #121\n",
    "3. Maximum Subarray (Easy) - Problem #53\n",
    "4. Product of Array Except Self (Medium) - Problem #238\n",
    "5. Subarray Sum Equals K (Medium) - Problem #560"
   ]
  },
  {
   "cell_type": "markdown",
   "metadata": {},
   "source": [
    "# Two Sum (Easy) - Problem #1"
   ]
  },
  {
   "cell_type": "code",
   "execution_count": 2,
   "metadata": {},
   "outputs": [
    {
     "name": "stdout",
     "output_type": "stream",
     "text": [
      "[0, 1]\n",
      "[1, 2]\n",
      "[0, 1]\n"
     ]
    }
   ],
   "source": [
    "from typing import List\n",
    "\n",
    "class Solution:\n",
    "    def twoSum(self, nums: List[int], target: int) -> List[int]:\n",
    "        stockage = {}\n",
    "        for i in range(len(nums)):\n",
    "            num = nums[i]\n",
    "            complement = target - num\n",
    "            if complement in stockage:\n",
    "                return [stockage[complement], i]\n",
    "            stockage[num] = i\n",
    "        return []\n",
    "\n",
    "solution = Solution()\n",
    "\n",
    "print(solution.twoSum([2,7,11,15], 9))\n",
    "print(solution.twoSum([3,2,4], 6))\n",
    "print(solution.twoSum([3,3], 6))"
   ]
  },
  {
   "cell_type": "markdown",
   "metadata": {},
   "source": [
    "# Best Time to Buy and Sell Stock (Easy) - Problem #121\n"
   ]
  },
  {
   "cell_type": "code",
   "execution_count": 2,
   "metadata": {},
   "outputs": [
    {
     "name": "stdout",
     "output_type": "stream",
     "text": [
      "5\n",
      "0\n"
     ]
    }
   ],
   "source": [
    "from typing import List\n",
    "\n",
    "class Solution:\n",
    "    def maxProfit(self, prices: List[int]) -> int:\n",
    "        if not prices : \n",
    "            return 0 \n",
    "\n",
    "        min_price = float(\"inf\")\n",
    "        profit_final = 0\n",
    "\n",
    "        for price in prices : \n",
    "            if price < min_price : \n",
    "                min_price = price \n",
    "            else : \n",
    "                profit_actuel = price - min_price \n",
    "                profit_final = max(profit_final,profit_actuel)\n",
    "        return profit_final\n",
    "solution = Solution()\n",
    "print(solution.maxProfit([7,1,5,3,6,4]))  \n",
    "print(solution.maxProfit([7,6,4,3,1])) "
   ]
  },
  {
   "cell_type": "markdown",
   "metadata": {},
   "source": [
    "# Maximum Subarray (Easy) - Problem #53\n"
   ]
  },
  {
   "cell_type": "code",
   "execution_count": 6,
   "metadata": {},
   "outputs": [
    {
     "name": "stdout",
     "output_type": "stream",
     "text": [
      "6\n",
      "1\n",
      "23\n"
     ]
    }
   ],
   "source": [
    "\n",
    "\n",
    "class Solution:\n",
    "    def maxSubArray(self, nums: List[int]) -> int:\n",
    "        res = float('-inf')\n",
    "        somme_actuel = 0 \n",
    "\n",
    "        for num in nums : \n",
    "            somme_actuel = max(num, somme_actuel + num)\n",
    "            res = max(res, somme_actuel)\n",
    "        return res \n",
    "\n",
    "solution = Solution()\n",
    "print(solution.maxSubArray([-2,1,-3,4,-1,2,1,-5,4]))\n",
    "print(solution.maxSubArray([1]))\n",
    "print(solution.maxSubArray([5,4,-1,7,8]))"
   ]
  },
  {
   "cell_type": "markdown",
   "metadata": {},
   "source": [
    "# Product of Array Except Self (Medium) - Problem #238"
   ]
  },
  {
   "cell_type": "code",
   "execution_count": 7,
   "metadata": {},
   "outputs": [
    {
     "name": "stdout",
     "output_type": "stream",
     "text": [
      "[24, 12, 8, 6]\n",
      "[0, 0, 9, 0, 0]\n"
     ]
    }
   ],
   "source": [
    "\n",
    "class Solution:\n",
    "    def productExceptSelf(self, nums: List[int]) -> List[int]:\n",
    "        n = len(nums)\n",
    "        result = [0] * n \n",
    "        \n",
    "        produit_droite = 1 \n",
    "        for i in range(n):  \n",
    "            result[i] = produit_droite\n",
    "            produit_droite *= nums[i]\n",
    "\n",
    "        produit_gauche = 1 \n",
    "        for i in range(n-1, -1, -1):  \n",
    "            result[i] *= produit_gauche \n",
    "            produit_gauche *= nums[i]\n",
    "\n",
    "        return result\n",
    "    \n",
    "sol = Solution()\n",
    "print(sol.productExceptSelf([1,2,3,4]))  \n",
    "print(sol.productExceptSelf([-1,1,0,-3,3]))  \n",
    "\n"
   ]
  },
  {
   "cell_type": "markdown",
   "metadata": {},
   "source": [
    "# Linked Lists\n",
    "\n",
    "1. Reverse Linked List (Easy) - Problem #206\n",
    "2. Merge Two Sorted Lists (Easy) - Problem #21"
   ]
  },
  {
   "cell_type": "markdown",
   "metadata": {},
   "source": [
    "# Reverse Linked List (Easy) - Problem #206\n"
   ]
  },
  {
   "cell_type": "code",
   "execution_count": 8,
   "metadata": {},
   "outputs": [
    {
     "name": "stdout",
     "output_type": "stream",
     "text": [
      "5 4 3 2 1 \n",
      "1 \n"
     ]
    }
   ],
   "source": [
    "from typing import Optional\n",
    "\n",
    "class ListNode:\n",
    "    def __init__(self, val=0, next=None):\n",
    "        self.val = val\n",
    "        self.next = next\n",
    "\n",
    "class Solution:\n",
    "    def reverseList(self, head: Optional[ListNode]) -> Optional[ListNode]:\n",
    "        previous = None\n",
    "        current = head \n",
    "\n",
    "        while current is not None : \n",
    "            next = current.next\n",
    "            current.next = previous \n",
    "            previous = current \n",
    "            current = next \n",
    "        return previous\n",
    "    \n",
    "solution = Solution()\n",
    "\n",
    "head1 = ListNode(1, ListNode(2, ListNode(3, ListNode(4, ListNode(5)))))\n",
    "result1 = solution.reverseList(head1)\n",
    "while result1 : \n",
    "    print(result1.val,end=' ')\n",
    "    result1 = result1.next\n",
    "print()\n",
    "\n",
    "head2 = ListNode(1)\n",
    "result2 = solution.reverseList(head2)\n",
    "while result2 : \n",
    "    print(result2.val,end=' ')\n",
    "    result2 = result2.next\n",
    "print()\n",
    "\n",
    "\n",
    "head3 = None\n",
    "result3 = solution.reverseList(head3)"
   ]
  },
  {
   "cell_type": "markdown",
   "metadata": {},
   "source": [
    "# Merge Two Sorted Lists (Easy) - Problem #21"
   ]
  },
  {
   "cell_type": "code",
   "execution_count": null,
   "metadata": {},
   "outputs": [],
   "source": [
    "class ListNode:\n",
    "    def __init__(self, val=0, next=None):\n",
    "        self.val = val\n",
    "        self.next = next\n",
    "\n",
    "class Solution:\n",
    "    def mergeTwoLists(self, list1: Optional[ListNode], list2: Optional[ListNode]) -> Optional[ListNode]:\n",
    "        if not list1:\n",
    "            return list2\n",
    "        if not list2:\n",
    "            return list1\n",
    "        \n",
    "        if list1.val <= list2.val:\n",
    "            head = list1\n",
    "            list1 = list1.next\n",
    "        else:\n",
    "            head = list2\n",
    "            list2 = list2.next\n",
    "        \n",
    "        current = head\n",
    "        \n",
    "        while list1 and list2:\n",
    "            if list1.val <= list2.val:\n",
    "                current.next = list1\n",
    "                list1 = list1.next\n",
    "            else:\n",
    "                current.next = list2\n",
    "                list2 = list2.next\n",
    "            current = current.next\n",
    "        \n",
    "        if list1:\n",
    "            current.next = list1\n",
    "        if list2:\n",
    "            current.next = list2\n",
    "        \n",
    "        return head"
   ]
  },
  {
   "cell_type": "markdown",
   "metadata": {},
   "source": [
    "Input\n",
    "list1 =\n",
    "[1,2,4]\n",
    "list2 =\n",
    "[1,3,4]\n",
    "Output\n",
    "[1,1,2,3,4,4]\n",
    "Expected\n",
    "[1,1,2,3,4,4]"
   ]
  }
 ],
 "metadata": {
  "kernelspec": {
   "display_name": "Python 3",
   "language": "python",
   "name": "python3"
  },
  "language_info": {
   "codemirror_mode": {
    "name": "ipython",
    "version": 3
   },
   "file_extension": ".py",
   "mimetype": "text/x-python",
   "name": "python",
   "nbconvert_exporter": "python",
   "pygments_lexer": "ipython3",
   "version": "3.12.7"
  }
 },
 "nbformat": 4,
 "nbformat_minor": 2
}
