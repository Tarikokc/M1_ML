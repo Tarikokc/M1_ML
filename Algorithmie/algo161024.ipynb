{
 "cells": [
  {
   "cell_type": "markdown",
   "metadata": {},
   "source": [
    "# M1 Machine Learning 15/10/2024"
   ]
  },
  {
   "cell_type": "markdown",
   "metadata": {},
   "source": [
    "## Arrays\n",
    "1. Two Sum (Easy) - Problem #1\n",
    "2. Best Time to Buy and Sell Stock (Easy) - Problem #121\n",
    "3. Maximum Subarray (Easy) - Problem #53\n",
    "4. Product of Array Except Self (Medium) - Problem #238\n",
    "5. Subarray Sum Equals K (Medium) - Problem #560"
   ]
  },
  {
   "cell_type": "markdown",
   "metadata": {},
   "source": [
    "# Two Sum (Easy) - Problem #1"
   ]
  },
  {
   "cell_type": "code",
   "execution_count": 2,
   "metadata": {},
   "outputs": [
    {
     "name": "stdout",
     "output_type": "stream",
     "text": [
      "[0, 1]\n",
      "[1, 2]\n",
      "[0, 1]\n"
     ]
    }
   ],
   "source": [
    "from typing import List\n",
    "\n",
    "class Solution:\n",
    "    def twoSum(self, nums: List[int], target: int) -> List[int]:\n",
    "        stockage = {}\n",
    "        for i in range(len(nums)):\n",
    "            num = nums[i]\n",
    "            complement = target - num\n",
    "            if complement in stockage:\n",
    "                return [stockage[complement], i]\n",
    "            stockage[num] = i\n",
    "        return []\n",
    "\n",
    "solution = Solution()\n",
    "\n",
    "print(solution.twoSum([2,7,11,15], 9))\n",
    "print(solution.twoSum([3,2,4], 6))\n",
    "print(solution.twoSum([3,3], 6))"
   ]
  },
  {
   "cell_type": "markdown",
   "metadata": {},
   "source": [
    "# Best Time to Buy and Sell Stock (Easy) - Problem #121\n"
   ]
  },
  {
   "cell_type": "code",
   "execution_count": 2,
   "metadata": {},
   "outputs": [
    {
     "name": "stdout",
     "output_type": "stream",
     "text": [
      "5\n",
      "0\n"
     ]
    }
   ],
   "source": [
    "from typing import List\n",
    "\n",
    "class Solution:\n",
    "    def maxProfit(self, prices: List[int]) -> int:\n",
    "        if not prices : \n",
    "            return 0 \n",
    "\n",
    "        min_price = float(\"inf\")\n",
    "        profit_final = 0\n",
    "\n",
    "        for price in prices : \n",
    "            if price < min_price : \n",
    "                min_price = price \n",
    "            else : \n",
    "                profit_actuel = price - min_price \n",
    "                profit_final = max(profit_final,profit_actuel)\n",
    "        return profit_final\n",
    "solution = Solution()\n",
    "print(solution.maxProfit([7,1,5,3,6,4]))  \n",
    "print(solution.maxProfit([7,6,4,3,1])) "
   ]
  },
  {
   "cell_type": "markdown",
   "metadata": {},
   "source": [
    "# Maximum Subarray (Easy) - Problem #53\n"
   ]
  },
  {
   "cell_type": "code",
   "execution_count": 6,
   "metadata": {},
   "outputs": [
    {
     "name": "stdout",
     "output_type": "stream",
     "text": [
      "6\n",
      "1\n",
      "23\n"
     ]
    }
   ],
   "source": [
    "\n",
    "\n",
    "class Solution:\n",
    "    def maxSubArray(self, nums: List[int]) -> int:\n",
    "        res = float('-inf')\n",
    "        somme_actuel = 0 \n",
    "\n",
    "        for num in nums : \n",
    "            somme_actuel = max(num, somme_actuel + num)\n",
    "            res = max(res, somme_actuel)\n",
    "        return res \n",
    "\n",
    "solution = Solution()\n",
    "print(solution.maxSubArray([-2,1,-3,4,-1,2,1,-5,4]))\n",
    "print(solution.maxSubArray([1]))\n",
    "print(solution.maxSubArray([5,4,-1,7,8]))"
   ]
  },
  {
   "cell_type": "markdown",
   "metadata": {},
   "source": [
    "# Product of Array Except Self (Medium) - Problem #238"
   ]
  },
  {
   "cell_type": "code",
   "execution_count": 7,
   "metadata": {},
   "outputs": [
    {
     "name": "stdout",
     "output_type": "stream",
     "text": [
      "[24, 12, 8, 6]\n",
      "[0, 0, 9, 0, 0]\n"
     ]
    }
   ],
   "source": [
    "\n",
    "class Solution:\n",
    "    def productExceptSelf(self, nums: List[int]) -> List[int]:\n",
    "        n = len(nums)\n",
    "        result = [0] * n \n",
    "        \n",
    "        produit_droite = 1 \n",
    "        for i in range(n):  \n",
    "            result[i] = produit_droite\n",
    "            produit_droite *= nums[i]\n",
    "\n",
    "        produit_gauche = 1 \n",
    "        for i in range(n-1, -1, -1):  \n",
    "            result[i] *= produit_gauche \n",
    "            produit_gauche *= nums[i]\n",
    "\n",
    "        return result\n",
    "    \n",
    "sol = Solution()\n",
    "print(sol.productExceptSelf([1,2,3,4]))  \n",
    "print(sol.productExceptSelf([-1,1,0,-3,3]))  \n",
    "\n"
   ]
  }
 ],
 "metadata": {
  "kernelspec": {
   "display_name": "Python 3",
   "language": "python",
   "name": "python3"
  },
  "language_info": {
   "codemirror_mode": {
    "name": "ipython",
    "version": 3
   },
   "file_extension": ".py",
   "mimetype": "text/x-python",
   "name": "python",
   "nbconvert_exporter": "python",
   "pygments_lexer": "ipython3",
   "version": "3.12.7"
  }
 },
 "nbformat": 4,
 "nbformat_minor": 2
}
